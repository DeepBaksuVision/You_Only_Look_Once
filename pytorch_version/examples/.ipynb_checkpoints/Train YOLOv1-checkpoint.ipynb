{
 "cells": [
  {
   "cell_type": "markdown",
   "metadata": {},
   "source": [
    "# Train YOLOv1"
   ]
  },
  {
   "cell_type": "code",
   "execution_count": 1,
   "metadata": {},
   "outputs": [],
   "source": [
    "import shutil\n",
    "import torch\n",
    "import torch.nn as nn\n",
    "import torchvision\n",
    "import torchvision.transforms as transforms\n",
    "import sys\n",
    "sys.path.append('../')\n",
    "from torchsummary.torchsummary import summary\n",
    "from dataloader import VOC\n",
    "import numpy as np\n",
    "import matplotlib.pyplot as plt\n",
    "import yolov1\n",
    "from yolov1 import detection_collate\n",
    "from yolov1 import detection_loss\n",
    "from yolov1 import save_checkpoint"
   ]
  },
  {
   "cell_type": "markdown",
   "metadata": {},
   "source": [
    "# 0. Vidom on"
   ]
  },
  {
   "cell_type": "code",
   "execution_count": 2,
   "metadata": {},
   "outputs": [],
   "source": [
    "def create_vis_plot(_xlabel, _ylabel, _title, _legend):\n",
    "    return viz.line(\n",
    "        X=torch.zeros((1,)).cpu(),\n",
    "        Y=torch.zeros((1, 1)).cpu(),\n",
    "        opts=dict(\n",
    "            xlabel=_xlabel,\n",
    "            ylabel=_ylabel,\n",
    "            title=_title,\n",
    "            legend=_legend\n",
    "        )\n",
    "    )"
   ]
  },
  {
   "cell_type": "code",
   "execution_count": 3,
   "metadata": {},
   "outputs": [],
   "source": [
    "def update_vis_plot(iteration, loss, window1, window2, update_type,\n",
    "                    epoch_size=1):\n",
    "    viz.line(\n",
    "        X=torch.ones((1, 1)).cpu() * iteration,\n",
    "        Y=torch.Tensor([loss]).unsqueeze(0).cpu() / epoch_size,\n",
    "        win=window1,\n",
    "        update=update_type\n",
    "    )"
   ]
  },
  {
   "cell_type": "code",
   "execution_count": 4,
   "metadata": {},
   "outputs": [],
   "source": [
    "import visdom\n",
    "viz = visdom.Visdom()\n",
    "\n",
    "vis_title = 'yolov1_martin_visioNoob.PyTorch on ' + 'VOC'\n",
    "vis_legend = ['Train Loss']\n",
    "iter_plot = create_vis_plot('Iteration', 'Loss', vis_title, vis_legend)\n",
    "epoch_plot = create_vis_plot('Epoch', 'Loss', vis_title, vis_legend)"
   ]
  },
  {
   "cell_type": "markdown",
   "metadata": {},
   "source": [
    "# 1. Device configuration"
   ]
  },
  {
   "cell_type": "code",
   "execution_count": 5,
   "metadata": {},
   "outputs": [],
   "source": [
    "device = torch.device('cuda:0' if torch.cuda.is_available() else 'cpu')\n",
    "\n",
    "num_epochs = 16000\n",
    "num_classes = 21\n",
    "batch_size = 16\n",
    "learning_rate = 1e-4\n",
    "\n",
    "dropout_prop = 0.5"
   ]
  },
  {
   "cell_type": "markdown",
   "metadata": {},
   "source": [
    "# 2. Load VOC Pascal'12 Dataset"
   ]
  },
  {
   "cell_type": "code",
   "execution_count": 6,
   "metadata": {
    "scrolled": true
   },
   "outputs": [
    {
     "name": "stdout",
     "output_type": "stream",
     "text": [
      "\n",
      "VOC Parsing:   |████████████████████████████████████████| 100.0% (17125/17125)  Complete\n",
      "\n",
      "\n",
      "YOLO Generating:|████████████████████████████████████████| 100.0% (9583/9583)  Complete\n",
      "\n"
     ]
    }
   ],
   "source": [
    "DATASET_PATH_MARTIN = \"/media/keti-ai/AI_HARD3/DataSets/VOC_Pascal/VOC/VOCdevkit/VOC2012\"\n",
    "DATASET_PATH_JAEWON = \"D:/dataset/VOC2012\"\n",
    "train_dataset = VOC(root = DATASET_PATH_JAEWON,\n",
    "                    transform=transforms.ToTensor(), cls_option = True, selective_cls=\"person\")"
   ]
  },
  {
   "cell_type": "code",
   "execution_count": 7,
   "metadata": {
    "scrolled": true
   },
   "outputs": [],
   "source": [
    "train_loader = torch.utils.data.DataLoader(dataset=train_dataset,\n",
    "                                           batch_size = batch_size,\n",
    "                                           shuffle = True,\n",
    "                                           collate_fn=detection_collate)"
   ]
  },
  {
   "cell_type": "markdown",
   "metadata": {},
   "source": [
    "# 3. Load YOLOv1"
   ]
  },
  {
   "cell_type": "code",
   "execution_count": 8,
   "metadata": {
    "scrolled": true
   },
   "outputs": [
    {
     "name": "stdout",
     "output_type": "stream",
     "text": [
      "----------------------------------------------------------------\n",
      "        Layer (type)               Output Shape         Param #\n",
      "================================================================\n",
      "            Conv2d-1         [-1, 64, 224, 224]           9,472\n",
      "         LeakyReLU-2         [-1, 64, 224, 224]               0\n",
      "         MaxPool2d-3         [-1, 64, 112, 112]               0\n",
      "            Conv2d-4        [-1, 192, 112, 112]         110,784\n",
      "         LeakyReLU-5        [-1, 192, 112, 112]               0\n",
      "         MaxPool2d-6          [-1, 192, 56, 56]               0\n",
      "            Conv2d-7          [-1, 128, 56, 56]          24,704\n",
      "         LeakyReLU-8          [-1, 128, 56, 56]               0\n",
      "            Conv2d-9          [-1, 256, 56, 56]         295,168\n",
      "        LeakyReLU-10          [-1, 256, 56, 56]               0\n",
      "           Conv2d-11          [-1, 256, 58, 58]          65,792\n",
      "        LeakyReLU-12          [-1, 256, 58, 58]               0\n",
      "           Conv2d-13          [-1, 512, 56, 56]       1,180,160\n",
      "        LeakyReLU-14          [-1, 512, 56, 56]               0\n",
      "        MaxPool2d-15          [-1, 512, 28, 28]               0\n",
      "           Conv2d-16          [-1, 256, 28, 28]         131,328\n",
      "        LeakyReLU-17          [-1, 256, 28, 28]               0\n",
      "           Conv2d-18          [-1, 512, 28, 28]       1,180,160\n",
      "        LeakyReLU-19          [-1, 512, 28, 28]               0\n",
      "           Conv2d-20          [-1, 256, 28, 28]         131,328\n",
      "        LeakyReLU-21          [-1, 256, 28, 28]               0\n",
      "           Conv2d-22          [-1, 512, 28, 28]       1,180,160\n",
      "        LeakyReLU-23          [-1, 512, 28, 28]               0\n",
      "           Conv2d-24          [-1, 256, 28, 28]         131,328\n",
      "        LeakyReLU-25          [-1, 256, 28, 28]               0\n",
      "           Conv2d-26          [-1, 512, 28, 28]       1,180,160\n",
      "        LeakyReLU-27          [-1, 512, 28, 28]               0\n",
      "           Conv2d-28          [-1, 256, 28, 28]         131,328\n",
      "        LeakyReLU-29          [-1, 256, 28, 28]               0\n",
      "           Conv2d-30          [-1, 512, 28, 28]       1,180,160\n",
      "        LeakyReLU-31          [-1, 512, 28, 28]               0\n",
      "           Conv2d-32          [-1, 512, 28, 28]         262,656\n",
      "        LeakyReLU-33          [-1, 512, 28, 28]               0\n",
      "           Conv2d-34         [-1, 1024, 28, 28]       4,719,616\n",
      "        LeakyReLU-35         [-1, 1024, 28, 28]               0\n",
      "        MaxPool2d-36         [-1, 1024, 14, 14]               0\n",
      "           Conv2d-37          [-1, 512, 14, 14]         524,800\n",
      "        LeakyReLU-38          [-1, 512, 14, 14]               0\n",
      "           Conv2d-39         [-1, 1024, 14, 14]       4,719,616\n",
      "        LeakyReLU-40         [-1, 1024, 14, 14]               0\n",
      "           Conv2d-41          [-1, 512, 14, 14]         524,800\n",
      "        LeakyReLU-42          [-1, 512, 14, 14]               0\n",
      "           Conv2d-43         [-1, 1024, 14, 14]       4,719,616\n",
      "        LeakyReLU-44         [-1, 1024, 14, 14]               0\n",
      "           Conv2d-45         [-1, 1024, 14, 14]       9,438,208\n",
      "        LeakyReLU-46         [-1, 1024, 14, 14]               0\n",
      "           Conv2d-47           [-1, 1024, 7, 7]       9,438,208\n",
      "        LeakyReLU-48           [-1, 1024, 7, 7]               0\n",
      "           Conv2d-49           [-1, 1024, 7, 7]       9,438,208\n",
      "        LeakyReLU-50           [-1, 1024, 7, 7]               0\n",
      "           Conv2d-51           [-1, 1024, 7, 7]       9,438,208\n",
      "        LeakyReLU-52           [-1, 1024, 7, 7]               0\n",
      "           Linear-53                 [-1, 4096]     205,524,992\n",
      "        LeakyReLU-54                 [-1, 4096]               0\n",
      "          Dropout-55                 [-1, 4096]               0\n",
      "           Linear-56                 [-1, 1519]       6,223,343\n",
      "          Dropout-57                 [-1, 1519]               0\n",
      "           YOLOv1-58             [-1, 7, 7, 31]               0\n",
      "================================================================\n",
      "Total params: 271,904,303\n",
      "Trainable params: 271,904,303\n",
      "Non-trainable params: 0\n",
      "----------------------------------------------------------------\n"
     ]
    }
   ],
   "source": [
    "net = yolov1.YOLOv1()\n",
    "# visualize_weights_distribution(net)\n",
    "\n",
    "model = torch.nn.DataParallel(net, device_ids=[0]).cuda()\n",
    "\n",
    "summary(model, (3, 448,448))\n",
    "\n",
    "optimizer = torch.optim.SGD(model.parameters(), lr=learning_rate, momentum=0.9, weight_decay=1e-5)\n",
    "scheduler = torch.optim.lr_scheduler.ExponentialLR(optimizer, gamma=0.95)"
   ]
  },
  {
   "cell_type": "markdown",
   "metadata": {},
   "source": [
    "# 4.Train the model"
   ]
  },
  {
   "cell_type": "code",
   "execution_count": null,
   "metadata": {},
   "outputs": [
    {
     "name": "stdout",
     "output_type": "stream",
     "text": [
      "Epoch [1/16000], Step [100/599], Loss: 8.3873, learning rate: [0.0001]\n",
      "Epoch [1/16000], Step [200/599], Loss: 7.3146, learning rate: [0.0001]\n",
      "Epoch [1/16000], Step [300/599], Loss: 7.6288, learning rate: [0.0001]\n",
      "Epoch [1/16000], Step [400/599], Loss: 9.8946, learning rate: [0.0001]\n",
      "Epoch [1/16000], Step [500/599], Loss: 6.9923, learning rate: [0.0001]\n",
      "Epoch [2/16000], Step [100/599], Loss: 7.6233, learning rate: [0.0001]\n",
      "Epoch [2/16000], Step [200/599], Loss: 7.9447, learning rate: [0.0001]\n",
      "Epoch [2/16000], Step [300/599], Loss: 10.4092, learning rate: [0.0001]\n",
      "Epoch [2/16000], Step [400/599], Loss: 8.6986, learning rate: [0.0001]\n",
      "Epoch [2/16000], Step [500/599], Loss: 9.1989, learning rate: [0.0001]\n",
      "Epoch [3/16000], Step [100/599], Loss: 10.6552, learning rate: [0.0001]\n",
      "Epoch [3/16000], Step [200/599], Loss: 9.7804, learning rate: [0.0001]\n",
      "Epoch [3/16000], Step [300/599], Loss: 9.1337, learning rate: [0.0001]\n",
      "Epoch [3/16000], Step [400/599], Loss: 7.7703, learning rate: [0.0001]\n",
      "Epoch [3/16000], Step [500/599], Loss: 7.3953, learning rate: [0.0001]\n",
      "Epoch [4/16000], Step [100/599], Loss: 8.0642, learning rate: [0.0001]\n",
      "Epoch [4/16000], Step [200/599], Loss: 7.9605, learning rate: [0.0001]\n",
      "Epoch [4/16000], Step [300/599], Loss: 9.7801, learning rate: [0.0001]\n",
      "Epoch [4/16000], Step [400/599], Loss: 7.6860, learning rate: [0.0001]\n"
     ]
    }
   ],
   "source": [
    "total_step = len(train_loader)\n",
    "for epoch in range(num_epochs):\n",
    "\n",
    "    for i, (images, labels) in enumerate(train_loader):\n",
    "\n",
    "        images = images.to(device)\n",
    "        labels = labels.to(device)\n",
    "\n",
    "        # Forward pass\n",
    "        outputs = model(images)\n",
    "\n",
    "        # Calc Loss\n",
    "        loss = detection_loss(outputs, labels)\n",
    "\n",
    "        # Backward and optimize\n",
    "        optimizer.zero_grad()\n",
    "        loss.backward()\n",
    "        optimizer.step()\n",
    "        \n",
    "        #Visualize Every Iteration\n",
    "        if(i != 0):\n",
    "            update_vis_plot(i, loss.item(), iter_plot, epoch_plot, 'append')\n",
    "\n",
    "        if (i + 1) % 100 == 0:\n",
    "            print('Epoch [{}/{}], Step [{}/{}], Loss: {:.4f}, learning rate: {}'\n",
    "                  .format(epoch + 1, num_epochs, i + 1, total_step, loss.item(),\n",
    "                          [param_group['lr'] for param_group in optimizer.param_groups]))\n",
    "            update_vis_plot(i, loss.item(), epoch_plot, None, 'append')\n",
    "    if(epoch == 100) or (epoch == 500) or (epoch == 1000) or (epoch == 2000) or (epoch == 4000) or (epoch == 8000) or (epoch == 14000):\n",
    "        scheduler.step()\n",
    "            \n",
    "\n",
    "    if (epoch % 300) == 0:\n",
    "        save_checkpoint({\n",
    "            'epoch': epoch + 1,\n",
    "            'arch': \"YOLOv1\",\n",
    "            'state_dict': model.state_dict(),\n",
    "            'optimizer': optimizer.state_dict(),\n",
    "        }, False, filename='checkpoint_{}.pth.tar'.format(epoch))\n",
    "        \n",
    "        \n",
    "        "
   ]
  },
  {
   "cell_type": "code",
   "execution_count": null,
   "metadata": {},
   "outputs": [],
   "source": []
  },
  {
   "cell_type": "code",
   "execution_count": null,
   "metadata": {},
   "outputs": [],
   "source": []
  }
 ],
 "metadata": {
  "kernelspec": {
   "display_name": "Python 3",
   "language": "python",
   "name": "python3"
  },
  "language_info": {
   "codemirror_mode": {
    "name": "ipython",
    "version": 3
   },
   "file_extension": ".py",
   "mimetype": "text/x-python",
   "name": "python",
   "nbconvert_exporter": "python",
   "pygments_lexer": "ipython3",
   "version": "3.6.5"
  }
 },
 "nbformat": 4,
 "nbformat_minor": 2
}
