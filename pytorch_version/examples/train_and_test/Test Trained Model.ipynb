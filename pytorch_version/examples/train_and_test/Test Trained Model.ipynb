{
 "cells": [
  {
   "cell_type": "markdown",
   "metadata": {},
   "source": [
    "# Test Trained Model"
   ]
  },
  {
   "cell_type": "code",
   "execution_count": 2,
   "metadata": {
    "ExecuteTime": {
     "end_time": "2018-09-16T16:11:24.135920Z",
     "start_time": "2018-09-16T16:11:24.093060Z"
    }
   },
   "outputs": [
    {
     "ename": "ImportError",
     "evalue": "cannot import name 'detection_collate_test'",
     "output_type": "error",
     "traceback": [
      "\u001b[1;31m---------------------------------------------------------------------------\u001b[0m",
      "\u001b[1;31mImportError\u001b[0m                               Traceback (most recent call last)",
      "\u001b[1;32m<ipython-input-2-792b94a6ab6d>\u001b[0m in \u001b[0;36m<module>\u001b[1;34m()\u001b[0m\n\u001b[0;32m     11\u001b[0m \u001b[1;32mimport\u001b[0m \u001b[0mmatplotlib\u001b[0m\u001b[1;33m.\u001b[0m\u001b[0mpyplot\u001b[0m \u001b[1;32mas\u001b[0m \u001b[0mplt\u001b[0m\u001b[1;33m\u001b[0m\u001b[0m\n\u001b[0;32m     12\u001b[0m \u001b[1;32mimport\u001b[0m \u001b[0myolov1_small\u001b[0m\u001b[1;33m\u001b[0m\u001b[0m\n\u001b[1;32m---> 13\u001b[1;33m \u001b[1;32mfrom\u001b[0m \u001b[0mutilities\u001b[0m\u001b[1;33m.\u001b[0m\u001b[0mutils\u001b[0m \u001b[1;32mimport\u001b[0m \u001b[0mdetection_collate_test\u001b[0m\u001b[1;33m\u001b[0m\u001b[0m\n\u001b[0m\u001b[0;32m     14\u001b[0m \u001b[1;32mfrom\u001b[0m \u001b[0mutilities\u001b[0m\u001b[1;33m.\u001b[0m\u001b[0mutils\u001b[0m \u001b[1;32mimport\u001b[0m \u001b[0msave_checkpoint\u001b[0m\u001b[1;33m\u001b[0m\u001b[0m\n\u001b[0;32m     15\u001b[0m \u001b[1;32mfrom\u001b[0m \u001b[0myolov1_small\u001b[0m \u001b[1;32mimport\u001b[0m \u001b[0mdetection_loss\u001b[0m\u001b[1;33m\u001b[0m\u001b[0m\n",
      "\u001b[1;31mImportError\u001b[0m: cannot import name 'detection_collate_test'"
     ]
    }
   ],
   "source": [
    "import shutil\n",
    "import torch\n",
    "import torch.nn as nn\n",
    "import torchvision\n",
    "import torchvision.transforms as transforms\n",
    "import sys\n",
    "sys.path.append('../')\n",
    "from torchsummary.torchsummary import summary\n",
    "from dataloaderNoob import VOC\n",
    "import numpy as np\n",
    "import matplotlib.pyplot as plt\n",
    "import yolov1_small\n",
    "from utilities.utils import detection_collate_test\n",
    "from utilities.utils import save_checkpoint\n",
    "from yolov1_small import detection_loss"
   ]
  },
  {
   "cell_type": "markdown",
   "metadata": {},
   "source": [
    "# 1. Set Device & hyperparameters"
   ]
  },
  {
   "cell_type": "code",
   "execution_count": null,
   "metadata": {
    "ExecuteTime": {
     "end_time": "2018-09-11T17:18:42.251626Z",
     "start_time": "2018-09-11T17:18:42.046789Z"
    }
   },
   "outputs": [],
   "source": [
    "print(\"torch.cuda.is_available():\", torch.cuda.is_available())\n",
    "\n",
    "use_cuda = torch.cuda.is_available()\n",
    "device = torch.device('cuda:0' if use_cuda else 'cpu')\n",
    "\n",
    "num_epochs = 16000\n",
    "num_classes = 1\n",
    "batch_size = 5\n",
    "learning_rate = 1e-3\n",
    "dropout_prop = 0.5"
   ]
  },
  {
   "cell_type": "markdown",
   "metadata": {},
   "source": [
    "# 2. Set Dataset"
   ]
  },
  {
   "cell_type": "code",
   "execution_count": null,
   "metadata": {
    "ExecuteTime": {
     "end_time": "2018-09-11T17:18:43.064152Z",
     "start_time": "2018-09-11T17:18:42.957689Z"
    }
   },
   "outputs": [],
   "source": [
    "DATASET_PATH_MARTIN = \"/media/keti-ai/AI_HARD3/DataSets/VOC_Pascal/VOC/VOCdevkit/VOC2012\"\n",
    "DATASET_PATH_JAEWON = \"H:\\VOC\\VOC12\\VOCdevkit_2\\VOC2012\"\n",
    "SMALL_DATASET_PATH = \"H:/person-300\"\n",
    "train_dataset = VOC(root = SMALL_DATASET_PATH,\n",
    "                    transform=transforms.ToTensor(), cls_option = True, selective_cls=\"person\")"
   ]
  },
  {
   "cell_type": "code",
   "execution_count": null,
   "metadata": {
    "ExecuteTime": {
     "end_time": "2018-09-11T17:18:43.301421Z",
     "start_time": "2018-09-11T17:18:43.298429Z"
    }
   },
   "outputs": [],
   "source": [
    "train_loader = torch.utils.data.DataLoader(dataset=train_dataset,\n",
    "                                           batch_size = batch_size,\n",
    "                                           shuffle = True,\n",
    "                                           collate_fn=detection_collate_test)"
   ]
  },
  {
   "cell_type": "markdown",
   "metadata": {},
   "source": [
    "# 3. Load checkpoint"
   ]
  },
  {
   "cell_type": "code",
   "execution_count": null,
   "metadata": {
    "ExecuteTime": {
     "end_time": "2018-09-11T17:19:13.222434Z",
     "start_time": "2018-09-11T17:19:09.817744Z"
    }
   },
   "outputs": [],
   "source": [
    "checkpoint = torch.load(\"../checkpoints/checkpoint_2700.pth.tar\")"
   ]
  },
  {
   "cell_type": "markdown",
   "metadata": {},
   "source": [
    "# 4. Load Model"
   ]
  },
  {
   "cell_type": "code",
   "execution_count": null,
   "metadata": {
    "ExecuteTime": {
     "end_time": "2018-09-11T17:18:47.620538Z",
     "start_time": "2018-09-11T17:18:45.832455Z"
    }
   },
   "outputs": [],
   "source": [
    "net = yolov1_small_test.SmallYOLOv1()"
   ]
  },
  {
   "cell_type": "code",
   "execution_count": null,
   "metadata": {
    "ExecuteTime": {
     "end_time": "2018-09-11T17:18:47.630538Z",
     "start_time": "2018-09-11T17:18:47.626521Z"
    }
   },
   "outputs": [],
   "source": [
    "# visualize_weights_distribution(net)\n",
    "use_cuda = torch.cuda.is_available()"
   ]
  },
  {
   "cell_type": "code",
   "execution_count": null,
   "metadata": {
    "ExecuteTime": {
     "end_time": "2018-09-11T17:18:51.761777Z",
     "start_time": "2018-09-11T17:18:47.637492Z"
    }
   },
   "outputs": [],
   "source": [
    "#device = torch.device(\"cuda\" if use_cuda else \"cpu\")\n",
    "device = torch.device(\"cuda\")\n",
    "model = yolov1_small_test.SmallYOLOv1().to(device)\n",
    "#model = torch.nn.DataParallel(net, device_ids=[0]).cuda()\n",
    "#summary(model, (3, 448,448))"
   ]
  },
  {
   "cell_type": "code",
   "execution_count": null,
   "metadata": {
    "ExecuteTime": {
     "end_time": "2018-09-11T17:19:46.133818Z",
     "start_time": "2018-09-11T17:19:46.122847Z"
    },
    "scrolled": true
   },
   "outputs": [],
   "source": [
    "model.load_state_dict(checkpoint['state_dict'])"
   ]
  },
  {
   "cell_type": "markdown",
   "metadata": {},
   "source": [
    "# 5. Read Images"
   ]
  },
  {
   "cell_type": "code",
   "execution_count": null,
   "metadata": {
    "ExecuteTime": {
     "end_time": "2018-09-11T17:18:58.263918Z",
     "start_time": "2018-09-11T17:18:58.118408Z"
    }
   },
   "outputs": [],
   "source": [
    "images, labels, sizes = iter(train_loader).next()\n",
    "images = images.to(device)\n",
    "labels = labels.to(device)"
   ]
  },
  {
   "cell_type": "code",
   "execution_count": null,
   "metadata": {
    "ExecuteTime": {
     "end_time": "2018-09-11T17:19:03.900246Z",
     "start_time": "2018-09-11T17:19:03.833300Z"
    }
   },
   "outputs": [],
   "source": [
    "#for just a image\n",
    "outputs = model(torch.cuda.FloatTensor(images))\n",
    "print(outputs.shape)"
   ]
  },
  {
   "cell_type": "markdown",
   "metadata": {},
   "source": [
    "# 6. Get & Plot Original Images"
   ]
  },
  {
   "cell_type": "code",
   "execution_count": null,
   "metadata": {
    "ExecuteTime": {
     "end_time": "2018-09-11T17:20:19.870426Z",
     "start_time": "2018-09-11T17:20:19.340844Z"
    },
    "scrolled": false
   },
   "outputs": [],
   "source": [
    "import cv2\n",
    "import matplotlib.pyplot as plt\n",
    "%matplotlib inline \n",
    "\n",
    "resizedImages = []\n",
    "\n",
    "for num in range(batch_size):\n",
    "    current_Image = images[num]\n",
    "    \n",
    "    src = np.transpose(current_Image,(1,2,0))\n",
    "    src = src * 255\n",
    "    src = src.numpy().astype(np.uint8).copy()\n",
    "\n",
    "    resizedImages.append(cv2.resize(src,sizes[num]))\n",
    "    plt.imshow(resizedImages[num])                  \n",
    "    plt.show()"
   ]
  },
  {
   "cell_type": "markdown",
   "metadata": {},
   "source": [
    "# 7. split the image into a grid (7x7)"
   ]
  },
  {
   "cell_type": "code",
   "execution_count": null,
   "metadata": {
    "ExecuteTime": {
     "end_time": "2018-09-11T17:20:54.200338Z",
     "start_time": "2018-09-11T17:20:53.642138Z"
    }
   },
   "outputs": [],
   "source": [
    "def DrawGrid7x7(src, sizes):\n",
    "    dst = src.copy()\n",
    "    \n",
    "    for i in range(7):\n",
    "        width = sizes[0]\n",
    "        height = sizes[1]\n",
    "        unit_x = sizes[0] // 7\n",
    "        unit_y = sizes[1] // 7\n",
    "        \n",
    "        img = cv2.line(src, (unit_x*i, 0), (unit_x*i, height), (0,0,0), 3)\n",
    "        img = cv2.line(src, (0, unit_y*i), (width, unit_y*i), (0,0,0), 3)\n",
    "        \n",
    "    return img\n",
    "\n",
    "for num in range(batch_size):\n",
    "    dst = DrawGrid7x7(resizedImages[num], sizes[num])   \n",
    "    plt.imshow(dst)\n",
    "    plt.show()"
   ]
  },
  {
   "cell_type": "markdown",
   "metadata": {},
   "source": [
    "# 8. Draw Ground Truth Grids & BBoxes"
   ]
  },
  {
   "cell_type": "markdown",
   "metadata": {},
   "source": [
    "**Ground Truth Grid**"
   ]
  },
  {
   "cell_type": "code",
   "execution_count": null,
   "metadata": {
    "ExecuteTime": {
     "end_time": "2018-09-11T17:21:27.270597Z",
     "start_time": "2018-09-11T17:21:27.265610Z"
    }
   },
   "outputs": [],
   "source": [
    "def DrawPatches(src, coords, sizes):\n",
    "    dst = src.copy()\n",
    "    print('coord : ',coords)\n",
    "    for coord in coords:\n",
    "        width = sizes[0]\n",
    "        height = sizes[1]\n",
    "        unit_x = (sizes[0] // 7)\n",
    "        unit_y = (sizes[1] // 7)\n",
    "        \n",
    "        img = cv2.rectangle(dst, \n",
    "                            (unit_x * coord[1], unit_y * coord[0]), \n",
    "                            (unit_x * coord[1] + unit_x, unit_y * coord[0] + unit_y), \n",
    "                            (255,0,0), 3)\n",
    "        #img = cv2.line(src, (0, unit_y*i), (width, unit_y*i), (0,0,0), 3)\n",
    "        \n",
    "    return img"
   ]
  },
  {
   "cell_type": "code",
   "execution_count": null,
   "metadata": {
    "ExecuteTime": {
     "end_time": "2018-09-11T17:22:00.503608Z",
     "start_time": "2018-09-11T17:22:00.033940Z"
    },
    "scrolled": true
   },
   "outputs": [],
   "source": [
    "\n",
    "for idx in range(batch_size):\n",
    "    coords = []\n",
    "    gridCoords = np.where(labels[idx,:,:,0]==1)\n",
    "    numObjects = len(gridCoords[0])\n",
    "\n",
    "\n",
    "    for num in range(numObjects):\n",
    "        X = gridCoords[1][num]\n",
    "        Y = gridCoords[0][num]\n",
    "        coords.append([X,Y])\n",
    "    \n",
    "    dst = DrawPatches(resizedImages[idx],coords, sizes[idx])\n",
    "    print(np.transpose(labels[idx,:,:,0],(1,0)))\n",
    "    plt.imshow(dst)\n",
    "    plt.show()"
   ]
  },
  {
   "cell_type": "markdown",
   "metadata": {},
   "source": [
    "**Bounding Box**"
   ]
  },
  {
   "cell_type": "code",
   "execution_count": null,
   "metadata": {
    "ExecuteTime": {
     "end_time": "2018-09-11T17:22:33.618662Z",
     "start_time": "2018-09-11T17:22:33.612678Z"
    }
   },
   "outputs": [],
   "source": [
    "def calcMinMaxXY(indice_xy, norm_xywh, original_wh):\n",
    "    x_index = indice_xy[0] + 1\n",
    "    y_index = indice_xy[1] + 1\n",
    "        \n",
    "    width = norm_xywh[2]  * original_wh[0]\n",
    "    height = norm_xywh[3] * original_wh[1]\n",
    "  \n",
    "    center_x = (norm_xywh[0] + x_index / 7) * original_wh[0]\n",
    "    center_y = (norm_xywh[1] + y_index / 7) * original_wh[1]\n",
    "    \n",
    "    xMin = center_x - width / 2\n",
    "    yMin = center_y - height / 2\n",
    "    xMax = center_x + width / 2\n",
    "    yMax = center_y + height / 2\n",
    "\n",
    "    return xMin, yMin, xMax, yMax, center_x, center_y, width, height"
   ]
  },
  {
   "cell_type": "code",
   "execution_count": null,
   "metadata": {
    "ExecuteTime": {
     "end_time": "2018-09-11T17:23:07.250657Z",
     "start_time": "2018-09-11T17:23:06.752973Z"
    },
    "scrolled": false
   },
   "outputs": [],
   "source": [
    "for num in range(batch_size):\n",
    "    result = np.where(labels[num,:,:,0]==1)\n",
    "    numObjects = len(result[0])\n",
    "    original_wh = [sizes[num][0],sizes[num][1]]\n",
    "    dst = resizedImages[num].copy()\n",
    "\n",
    "    for idx in range(int(numObjects)):\n",
    "        X = int(result[1][idx])\n",
    "        Y = int(result[0][idx])\n",
    "        print('(X, Y):',X,Y)\n",
    "\n",
    "        indice_xy = [result[0][idx], result[1][idx]]\n",
    "        norm_xywh = [labels[num,Y,X,2],labels[num,Y,X,3],labels[num,Y,X,4],labels[num,Y,X,5]]\n",
    "        #original_wh = [size[0][0],size[0][1]]\n",
    "    \n",
    "        result2 = calcMinMaxXY(indice_xy, norm_xywh, original_wh)\n",
    "        print(result2[4:9])\n",
    "        dst = cv2.rectangle(dst,(result2[0], result2[1]),(result2[2], result2[3]),(255,0,255),5)\n",
    "    plt.imshow(dst)\n",
    "    plt.show()"
   ]
  },
  {
   "cell_type": "markdown",
   "metadata": {},
   "source": [
    "    # output tensor slice\n",
    "    objness1_output = output[:, :, :, 0]\n",
    "    x_offset1_output = output[:, :, :, 1]\n",
    "    y_offset1_output = output[:, :, :, 2]\n",
    "    width_ratio1_output = output[:, :, :, 3]\n",
    "    height_ratio1_output = output[:, :, :, 4]\n",
    "    class_output = output[:, :, :, 5]\n",
    "\n",
    "    # label tensor slice\n",
    "    objness_label = target[:, :, :, 0]\n",
    "    class_label = target[:, :, :, 1]\n",
    "    x_offset_label = target[:, :, :, 2]\n",
    "    y_offset_label = target[:, :, :, 3]\n",
    "    width_ratio_label = target[:, :, :, 4]\n",
    "    height_ratio_label = target[:, :, :, 5]"
   ]
  },
  {
   "cell_type": "markdown",
   "metadata": {},
   "source": [
    "# 1. Confidence"
   ]
  },
  {
   "cell_type": "code",
   "execution_count": null,
   "metadata": {
    "ExecuteTime": {
     "start_time": "2018-09-11T17:09:51.243Z"
    }
   },
   "outputs": [],
   "source": [
    "print(outputs[num,:,:,0])\n",
    "print(labels[num,:,:,0])"
   ]
  },
  {
   "cell_type": "markdown",
   "metadata": {},
   "source": [
    "# 2. class output"
   ]
  },
  {
   "cell_type": "code",
   "execution_count": null,
   "metadata": {
    "ExecuteTime": {
     "end_time": "2018-09-11T17:24:04.979648Z",
     "start_time": "2018-09-11T17:24:04.969645Z"
    }
   },
   "outputs": [],
   "source": [
    "print(outputs[0,:,:,5])\n",
    "print(labels[0,:,:,1])"
   ]
  },
  {
   "cell_type": "markdown",
   "metadata": {},
   "source": [
    "# 3. W/H"
   ]
  },
  {
   "cell_type": "code",
   "execution_count": null,
   "metadata": {},
   "outputs": [],
   "source": [
    "width_ratio_label = labels[:, :, :, 4]\n",
    "height_ratio_label = labels[:, :, :, 5]\n",
    "\n",
    "print(width_ratio_label * 448)\n",
    "print(height_ratio_label* 448)"
   ]
  },
  {
   "cell_type": "code",
   "execution_count": null,
   "metadata": {},
   "outputs": [],
   "source": []
  },
  {
   "cell_type": "code",
   "execution_count": null,
   "metadata": {},
   "outputs": [],
   "source": [
    "result = np.where(labels[0,:,:,0]==1)\n",
    "X = result[1][0]\n",
    "Y = result[0][0]\n",
    "src = np.transpose(current_Image,(1,2,0))\n",
    "src = src * 255\n",
    "src = src.numpy().astype(np.uint8).copy()\n",
    "\n",
    "indice_xy = [result[0][0], result[1][0]]\n",
    "norm_xywh = [labels[0,Y,X,2],labels[0,Y,X,3],labels[0,Y,X,4],labels[0,Y,X,5]]\n",
    "#original_wh = [size[0][0],size[0][1]]\n",
    "original_wh = [500,332]\n",
    "result = calcMinMaxXY(indice_xy, norm_xywh, original_wh)\n",
    "dst = cv2.resize(src, (original_wh[0],original_wh[1]))\n",
    "dst = cv2.rectangle(dst,(result[0], result[1]),(result[2], result[3]),(255,0,255),5)\n",
    "plt.imshow(dst)"
   ]
  },
  {
   "cell_type": "code",
   "execution_count": null,
   "metadata": {},
   "outputs": [],
   "source": [
    "result = np.where(labels[0,:,:,0]==1)\n",
    "numObjects = len(result[0])\n",
    "\n",
    "original_wh = [500,332]\n",
    "dst = cv2.resize(src, (original_wh[0],original_wh[1]))\n",
    "\n",
    "for idx in range(int(numObjects)):\n",
    "    print('iter : ',idx)\n",
    "    X = int(result[1][idx])\n",
    "    Y = int(result[0][idx])\n",
    "    print('X : ',X)\n",
    "    print('Y : ',Y)\n",
    "    src = np.transpose(current_Image,(1,2,0))\n",
    "    src = src * 255\n",
    "    src = src.numpy().astype(np.uint8).copy()\n",
    "\n",
    "    indice_xy = [result[0][idx], result[1][idx]]\n",
    "    norm_xywh = [labels[0,Y,X,2],labels[0,Y,X,3],labels[0,Y,X,4],labels[0,Y,X,5]]\n",
    "    #original_wh = [size[0][0],size[0][1]]\n",
    "    \n",
    "    result2 = calcMinMaxXY(indice_xy, norm_xywh, original_wh)\n",
    "    \n",
    "    dst = cv2.rectangle(dst,(result2[0], result2[1]),(result2[2], result2[3]),(255,0,255),5)\n",
    "plt.imshow(dst)\n",
    "plt.show()"
   ]
  },
  {
   "cell_type": "code",
   "execution_count": null,
   "metadata": {},
   "outputs": [],
   "source": [
    "idx"
   ]
  },
  {
   "cell_type": "markdown",
   "metadata": {},
   "source": [
    " # output tensor slice\n",
    "    objness1_output = output[:, :, :, 0]\n",
    "    x_offset1_output = output[:, :, :, 1]\n",
    "    y_offset1_output = output[:, :, :, 2]\n",
    "    width_ratio1_output = output[:, :, :, 3]\n",
    "    height_ratio1_output = output[:, :, :, 4]\n",
    "    class_output = output[:, :, :, 5]"
   ]
  },
  {
   "cell_type": "code",
   "execution_count": null,
   "metadata": {},
   "outputs": [],
   "source": [
    "inference = outputs[num,:,:,0] > 0.7 \n",
    "result = np.where(inference==1)\n",
    "numObjects = len(result[0])\n",
    "original_wh = [500,375]\n",
    "dst = cv2.resize(src, (original_wh[0],original_wh[1]))\n",
    "\n",
    "for idx in range(int(numObjects)):\n",
    "    print('iter : ',idx)\n",
    "    X = int(result[1][idx])\n",
    "    Y = int(result[0][idx])\n",
    "    print('X : ',X)\n",
    "    print('Y : ',Y)\n",
    "    src = np.transpose(current_Image,(1,2,0))\n",
    "    src = src * 255\n",
    "    src = src.numpy().astype(np.uint8).copy()\n",
    "    indice_xy = [result[0][idx], result[1][idx]]\n",
    "    norm_xywh = [outputs[0,Y,X,1],outputs[0,Y,X,2],outputs[0,Y,X,3],outputs[0,Y,X,4]]\n",
    "    result2 = calcMinMaxXY(indice_xy, norm_xywh, original_wh)\n",
    "    dst = cv2.rectangle(dst,(result2[0], result2[1]),(result2[2], result2[3]),(255,0,255),5)\n",
    "    \n",
    "plt.imshow(dst)\n",
    "plt.show()"
   ]
  },
  {
   "cell_type": "code",
   "execution_count": null,
   "metadata": {},
   "outputs": [],
   "source": [
    "inference"
   ]
  },
  {
   "cell_type": "code",
   "execution_count": null,
   "metadata": {},
   "outputs": [],
   "source": [
    "labels[0,Y,X,1]"
   ]
  }
 ],
 "metadata": {
  "kernelspec": {
   "display_name": "Python 3",
   "language": "python",
   "name": "python3"
  },
  "language_info": {
   "codemirror_mode": {
    "name": "ipython",
    "version": 3
   },
   "file_extension": ".py",
   "mimetype": "text/x-python",
   "name": "python",
   "nbconvert_exporter": "python",
   "pygments_lexer": "ipython3",
   "version": "3.6.5"
  },
  "varInspector": {
   "cols": {
    "lenName": 16,
    "lenType": 16,
    "lenVar": 40
   },
   "kernels_config": {
    "python": {
     "delete_cmd_postfix": "",
     "delete_cmd_prefix": "del ",
     "library": "var_list.py",
     "varRefreshCmd": "print(var_dic_list())"
    },
    "r": {
     "delete_cmd_postfix": ") ",
     "delete_cmd_prefix": "rm(",
     "library": "var_list.r",
     "varRefreshCmd": "cat(var_dic_list()) "
    }
   },
   "types_to_exclude": [
    "module",
    "function",
    "builtin_function_or_method",
    "instance",
    "_Feature"
   ],
   "window_display": false
  }
 },
 "nbformat": 4,
 "nbformat_minor": 2
}
